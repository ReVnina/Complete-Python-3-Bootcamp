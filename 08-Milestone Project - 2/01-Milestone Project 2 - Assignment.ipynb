{
 "cells": [
  {
   "cell_type": "markdown",
   "metadata": {},
   "source": [
    "___\n",
    "\n",
    "<a href='https://www.udemy.com/user/joseportilla/'><img src='../Pierian_Data_Logo.png'/></a>\n",
    "___\n",
    "<center><em>Content Copyright by Pierian Data</em></center>"
   ]
  },
  {
   "cell_type": "markdown",
   "metadata": {},
   "source": [
    "# Milestone Project 2 - Blackjack Game\n",
    "In this milestone project you will be creating a Complete BlackJack Card Game in Python.\n",
    "\n",
    "Here are the requirements:\n",
    "\n",
    "* You need to create a simple text-based [BlackJack](https://en.wikipedia.org/wiki/Blackjack) game\n",
    "* The game needs to have one player versus an automated dealer.\n",
    "* The player can stand or hit.\n",
    "* The player must be able to pick their betting amount.\n",
    "* You need to keep track of the player's total money.\n",
    "* You need to alert the player of wins, losses, or busts, etc...\n",
    "\n",
    "And most importantly:\n",
    "\n",
    "* **You must use OOP and classes in some portion of your game. You can not just use functions in your game. Use classes to help you define the Deck and the Player's hand. There are many right ways to do this, so explore it well!**\n",
    "\n",
    "\n",
    "Feel free to expand this game. Try including multiple players. Try adding in Double-Down and card splits! Remember to you are free to use any resources you want and as always:\n",
    "\n",
    "# HAVE FUN!"
   ]
  },
  {
   "cell_type": "code",
   "execution_count": 1,
   "metadata": {},
   "outputs": [],
   "source": [
    "import random \n",
    "suits = ('♥', '♦', '♠', '♣')\n",
    "ranks = ('2', '3', '4', '5', '6', '7', '8', '9', '10', 'J', 'Q', 'K', 'A')\n",
    "values = {'2': 2, '3': 3, '4': 4, '5': 5, '6': 6, '7': 7, '8': 8, '9': 9, '10': 10, 'J': 10, 'Q': 10, 'K': 10, 'A': 11}\n"
   ]
  },
  {
   "cell_type": "code",
   "execution_count": 2,
   "metadata": {},
   "outputs": [],
   "source": [
    "class Card:\n",
    "    \n",
    "    def __init__(self,suit,rank):\n",
    "        self.suit = suit\n",
    "        self.rank = rank\n",
    "        self.value = values[rank]\n",
    "        \n",
    "    def __str__(self):\n",
    "        return self.rank  + \" \" + self.suit"
   ]
  },
  {
   "cell_type": "code",
   "execution_count": 3,
   "metadata": {},
   "outputs": [],
   "source": [
    "class Deck:\n",
    "    \n",
    "    def __init__(self):\n",
    "        # Note this only happens once upon creation of a new Deck\n",
    "        self.all_cards = [] \n",
    "        for suit in suits:\n",
    "            for rank in ranks:\n",
    "                # This assumes the Card class has already been defined!\n",
    "                self.all_cards.append(Card(suit,rank))\n",
    "                \n",
    "    def shuffle(self):\n",
    "        # Note this doesn't return anything\n",
    "        random.shuffle(self.all_cards)\n",
    "        \n",
    "    def deal_one(self):\n",
    "        # Note we remove one card from the list of all_cards\n",
    "        return self.all_cards.pop()  "
   ]
  },
  {
   "cell_type": "code",
   "execution_count": 24,
   "metadata": {},
   "outputs": [],
   "source": [
    "class Player:\n",
    "    \n",
    "    def __init__(self,name, chips = 0):\n",
    "        self.name = name\n",
    "        # A new player has no cards\n",
    "        self.all_cards = [] \n",
    "        self.chips = chips\n",
    "        \n",
    "    def add_cards(self,new_cards):\n",
    "        if type(new_cards) == type([]):\n",
    "            self.all_cards.extend(new_cards)\n",
    "        else:\n",
    "            self.all_cards.append(new_cards)\n",
    "    \n",
    "    def bet(self, amount):\n",
    "        self.chips -= amount\n",
    "        print(f'{self.name} has bet {amount} chips')\n",
    "        return amount\n",
    "    \n",
    "    def sum_cards(self):\n",
    "        sum_all =  sum([card.value for card in self.all_cards])\n",
    "        if sum_all > 21:\n",
    "            for card in self.all_cards:\n",
    "                if card.rank == 'A':\n",
    "                    card.value = 1\n",
    "        return sum([card.value for card in self.all_cards])\n",
    "\n",
    "    def show_cards(self, num_cards = 1):\n",
    "        return [str(card) for card in self.all_cards[:num_cards]]\n",
    "\n",
    "\n",
    "    def __str__(self):\n",
    "        return f'Player {self.name}'\n"
   ]
  },
  {
   "cell_type": "code",
   "execution_count": 25,
   "metadata": {},
   "outputs": [
    {
     "name": "stdout",
     "output_type": "stream",
     "text": [
      "One has bet 50 chips\n",
      "Player One cards: ['A ♦', '2 ♠']. Total: 13\n",
      "Player Dealer cards: ['2 ♦'].\n",
      "Player One cards: ['A ♦', '2 ♠', 'J ♠']. Total: 13\n",
      "Player One cards: ['A ♦', '2 ♠', 'J ♠', '9 ♠']. Total: 22\n",
      "Player One busts with cards ['A ♦', '2 ♠', 'J ♠', '9 ♠'], total sum 22. Dealer wins with cards ['2 ♦', '8 ♥'], total sum 10.\n",
      "Player One now has 50 chips.\n"
     ]
    },
    {
     "ename": "IndexError",
     "evalue": "string index out of range",
     "output_type": "error",
     "traceback": [
      "\u001b[1;31m---------------------------------------------------------------------------\u001b[0m",
      "\u001b[1;31mIndexError\u001b[0m                                Traceback (most recent call last)",
      "Cell \u001b[1;32mIn[25], line 62\u001b[0m\n\u001b[0;32m     59\u001b[0m \u001b[38;5;28mprint\u001b[39m(\u001b[38;5;124mf\u001b[39m\u001b[38;5;124m\"\u001b[39m\u001b[38;5;124mPlayer \u001b[39m\u001b[38;5;132;01m{\u001b[39;00mplayer_one\u001b[38;5;241m.\u001b[39mname\u001b[38;5;132;01m}\u001b[39;00m\u001b[38;5;124m now has \u001b[39m\u001b[38;5;132;01m{\u001b[39;00mplayer_one\u001b[38;5;241m.\u001b[39mchips\u001b[38;5;132;01m}\u001b[39;00m\u001b[38;5;124m chips.\u001b[39m\u001b[38;5;124m\"\u001b[39m)\n\u001b[0;32m     61\u001b[0m again \u001b[38;5;241m=\u001b[39m \u001b[38;5;28minput\u001b[39m(\u001b[38;5;124m\"\u001b[39m\u001b[38;5;124mWould you like to play again? \u001b[39m\u001b[38;5;124m\"\u001b[39m)\n\u001b[1;32m---> 62\u001b[0m \u001b[38;5;28;01mif\u001b[39;00m(\u001b[43magain\u001b[49m\u001b[43m[\u001b[49m\u001b[38;5;241;43m0\u001b[39;49m\u001b[43m]\u001b[49m\u001b[38;5;241m.\u001b[39mlower() \u001b[38;5;241m==\u001b[39m \u001b[38;5;124m'\u001b[39m\u001b[38;5;124my\u001b[39m\u001b[38;5;124m'\u001b[39m):\n\u001b[0;32m     63\u001b[0m     game_on \u001b[38;5;241m=\u001b[39m \u001b[38;5;28;01mTrue\u001b[39;00m\n\u001b[0;32m     64\u001b[0m     player_one\u001b[38;5;241m.\u001b[39mall_cards \u001b[38;5;241m=\u001b[39m []\n",
      "\u001b[1;31mIndexError\u001b[0m: string index out of range"
     ]
    }
   ],
   "source": [
    "from IPython.display import clear_output\n",
    "\n",
    "player_one = Player(\"One\", 100)\n",
    "dealer = Player(\"Dealer\")\n",
    "\n",
    "new_deck = Deck()\n",
    "new_deck.shuffle()\n",
    "\n",
    "dealer.show_cards()    \n",
    "game_on = True\n",
    "\n",
    "while game_on:\n",
    "    try:\n",
    "        bet = int(input(\"How much would you like to bet? \"))\n",
    "    except ValueError: \n",
    "        print(\"Please enter a valid number\")\n",
    "        continue\n",
    "    if(bet > player_one.chips):\n",
    "        print(f\"You don't have enough chips to bet that amount. You have {player_one.chips} chips.\")\n",
    "        continue\n",
    "    player_one.bet(bet)\n",
    "    \n",
    "    # deal 2 cards each\n",
    "    for x in range(2):\n",
    "        player_one.add_cards(new_deck.deal_one())\n",
    "        dealer.add_cards(new_deck.deal_one())\n",
    "    print(f\"Player {player_one.name} cards: {player_one.show_cards(2)}. Total: {player_one.sum_cards()}\")\n",
    "    print(f\"Player {dealer.name} cards: {dealer.show_cards(1)}.\")\n",
    "    \n",
    "    # player's turn\n",
    "    while player_one.sum_cards() < 21:\n",
    "        action = input(\"Would you like to hit ('h') or stand ('s')? \")\n",
    "        if action[0].lower()  == 'h':\n",
    "            player_one.add_cards(new_deck.deal_one())\n",
    "            print(f\"Player {player_one.name} cards: {player_one.show_cards(len(player_one.all_cards))}. Total: {player_one.sum_cards()}\")\n",
    "        elif action[0].lower() == 's':\n",
    "            while dealer.sum_cards() < 17:\n",
    "                dealer.add_cards(new_deck.deal_one())   \n",
    "                print(f\"Player {dealer.name} cards: {dealer.show_cards(len(dealer.all_cards))}. Total: {dealer.sum_cards()}\")\n",
    "            break\n",
    "        else:\n",
    "            print(\"Invalid input. Please enter 'hit' or 'stand'\")\n",
    "            continue\n",
    "    \n",
    "    game_on = False\n",
    "    if player_one.sum_cards() > 21:\n",
    "        print(f\"Player {player_one.name} busts with cards {player_one.show_cards(len(player_one.all_cards))}, total sum {player_one.sum_cards()}. Dealer wins with cards {dealer.show_cards(len(dealer.all_cards))}, total sum {dealer.sum_cards()}.\")\n",
    "    elif dealer.sum_cards() > 21:\n",
    "        print(f\"Dealer busts with cards {dealer.show_cards(len(dealer.all_cards))}, total sum {dealer.sum_cards()}. Player wins with cards {player_one.show_cards(len(player_one.all_cards))}, total sum {player_one.sum_cards()}.\")\n",
    "        player_one.chips += bet*2\n",
    "    elif player_one.sum_cards() > dealer.sum_cards():\n",
    "        player_one.chips += bet*2\n",
    "        print(f\"Player {player_one.name} wins with cards {player_one.show_cards(len(player_one.all_cards))}, total sum {player_one.sum_cards()}. Dealer has cards {dealer.show_cards(len(dealer.all_cards))}, total sum {dealer.sum_cards()}.\")\n",
    "        \n",
    "    elif player_one.sum_cards() < dealer.sum_cards():\n",
    "        print(f\"Dealer wins with cards {dealer.show_cards(len(dealer.all_cards))}, total sum {dealer.sum_cards()}. Player has cards {player_one.show_cards(len(player_one.all_cards))}, total sum {player_one.sum_cards()}.\")\n",
    "    else:\n",
    "        print(\"It's a tie!\")\n",
    "    print(f\"Player {player_one.name} now has {player_one.chips} chips.\")\n",
    "\n",
    "    again = input(\"Would you like to play again? \")\n",
    "    if(again[0].lower() == 'y'):\n",
    "        game_on = True\n",
    "        player_one.all_cards = []\n",
    "        dealer.all_cards = []\n",
    "        clear_output()\n"
   ]
  }
 ],
 "metadata": {
  "kernelspec": {
   "display_name": "Python 3",
   "language": "python",
   "name": "python3"
  },
  "language_info": {
   "codemirror_mode": {
    "name": "ipython",
    "version": 3
   },
   "file_extension": ".py",
   "mimetype": "text/x-python",
   "name": "python",
   "nbconvert_exporter": "python",
   "pygments_lexer": "ipython3",
   "version": "3.11.0b4"
  }
 },
 "nbformat": 4,
 "nbformat_minor": 1
}

{
 "cells": [
  {
   "cell_type": "markdown",
   "metadata": {},
   "source": [
    "___\n",
    "\n",
    "<a href='https://www.udemy.com/user/joseportilla/'><img src='../Pierian_Data_Logo.png'/></a>\n",
    "___\n",
    "<center><em>Content Copyright by Pierian Data</em></center>"
   ]
  },
  {
   "cell_type": "code",
   "execution_count": null,
   "metadata": {},
   "outputs": [],
   "source": []
  },
  {
   "cell_type": "markdown",
   "metadata": {},
   "source": [
    "# Milestone Project 1\n",
    "## Congratulations on making it to your first milestone!\n",
    "You've already learned a ton and are ready to work on a real project.\n",
    "\n",
    "Your assignment: Create a Tic Tac Toe game. You are free to use any IDE you like.\n",
    "\n",
    "Here are the requirements:\n",
    "\n",
    "* 2 players should be able to play the game (both sitting at the same computer)\n",
    "* The board should be printed out every time a player makes a move\n",
    "* You should be able to accept input of the player position and then place a symbol on the board\n",
    "\n",
    "Feel free to use Google to help you figure anything out (but don't just Google \"Tic Tac Toe in Python\" otherwise you won't learn anything!) Keep in mind that this project can take anywhere between several hours to several days.\n",
    "\n",
    "There are 4 Jupyter Notebooks related to this assignment:\n",
    "\n",
    "* This Assignment Notebook\n",
    "* A \"Walkthrough Steps Workbook\" Notebook\n",
    "* A \"Complete Walkthrough Solution\" Notebook\n",
    "* An \"Advanced Solution\" Notebook\n",
    "\n",
    "I encourage you to just try to start the project on your own without referencing any of the notebooks. If you get stuck, check out the next lecture which is a text lecture with helpful hints and steps. If you're still stuck after that, then check out the Walkthrough Steps Workbook, which breaks up the project in steps for you to solve. Still stuck? Then check out the Complete Walkthrough Solution video for more help on approaching the project!"
   ]
  },
  {
   "cell_type": "markdown",
   "metadata": {},
   "source": [
    "There are parts of this that will be a struggle...and that is good! I have complete faith that if you have made it this far through the course you have all the tools and knowledge to tackle this project. Remember, it's totally open book, so take your time, do a little research, and remember:\n",
    "\n",
    "## HAVE FUN!"
   ]
  },
  {
   "cell_type": "code",
   "execution_count": 52,
   "metadata": {},
   "outputs": [],
   "source": [
    "from IPython.display import clear_output\n",
    "from itertools import combinations\n",
    "\n",
    "# Mapping from numpad input to internal board positions\n",
    "numpad_to_board = {\n",
    "    7: 0, 8: 1, 9: 2,\n",
    "    4: 3, 5: 4, 6: 5,\n",
    "    1: 6, 2: 7, 3: 8\n",
    "}\n",
    "\n",
    "# Function to display the positions and current state of the board\n",
    "def show_positions_and_board(board):\n",
    "    positions = [7, 8, 9, 4, 5, 6, 1, 2, 3]\n",
    "    row1 = [board[0], \"|\", board[1], \"|\", board[2]]\n",
    "    row2 = [board[3], \"|\", board[4], \"|\", board[5]]\n",
    "    row3 = [board[6], \"|\", board[7], \"|\", board[8]]\n",
    "    position_row1 = [positions[0],\"|\", positions[1], \"|\", positions[2]]\n",
    "    position_row2 = [positions[3],\"|\", positions[4], \"|\", positions[5]]\n",
    "    position_row3 = [positions[6],\"|\", positions[7], \"|\", positions[8]]\n",
    "    clear_output()\n",
    "    print( *row1)\n",
    "    print( *row2)\n",
    "    print( *row3)\n",
    "\n",
    "# Function for player one's move\n",
    "def player_one_move(board):\n",
    "    player_one = int(input(\"Player 1, choose a position (use numpad 1-9): \"))\n",
    "    while player_one not in numpad_to_board:\n",
    "        player_one = int(input(\"Player 1, please choose a valid position (numpad 1-9): \"))\n",
    "    board_position = numpad_to_board[player_one]\n",
    "    while board[board_position] != \"_\":\n",
    "        player_one = int(input(\"Player 1, please choose an empty position: \"))\n",
    "        board_position = numpad_to_board[player_one]\n",
    "    board[board_position] = \"X\"\n",
    "    return([i for i, value in enumerate(board) if value == \"X\"])\n",
    "\n",
    "# Function for player two's move\n",
    "def player_two_move(board):\n",
    "    if board.count(\"_\") == 0:\n",
    "        return\n",
    "    player_two = int(input(\"Player 2, choose a position (use numpad 1-9): \"))\n",
    "    while player_two not in numpad_to_board:\n",
    "        player_two = int(input(\"Player 2, please choose a valid position (numpad 1-9): \"))\n",
    "    board_position = numpad_to_board[player_two]\n",
    "    while board[board_position] != \"_\":\n",
    "        player_two = int(input(\"Player 2, please choose an empty position: \"))\n",
    "        board_position = numpad_to_board[player_two]\n",
    "    board[board_position] = \"O\"\n",
    "    return([i for i, value in enumerate(board) if value == \"O\"])\n",
    "\n",
    "# Function to play the game\n",
    "def play_game():\n",
    "    board = [\"_\", \"_\", \"_\", \"_\", \"_\", \"_\", \"_\", \"_\", \"_\"]\n",
    "    win_positions = [(0, 1, 2), (3, 4, 5), (6, 7, 8), (0, 3, 6), (1, 4, 7), (2, 5, 8), (0, 4, 8), (2, 4, 6)]\n",
    "    show_positions_and_board(board)\n",
    "    \n",
    "    while board.count(\"_\") > 0:\n",
    "        # Player 1 move\n",
    "        positions_one = player_one_move(board)\n",
    "        matches_one = [triple for triple in list(combinations(positions_one, 3)) if triple in win_positions]\n",
    "        if matches_one:\n",
    "            show_positions_and_board(board)\n",
    "            print(f\"END: Player 1 wins with positions {[(triple[0]+1, triple[1]+1, triple[2]+1) for triple in matches_one]}\")\n",
    "            return\n",
    "        \n",
    "        show_positions_and_board(board)\n",
    "        \n",
    "        # Check for draw\n",
    "        if board.count(\"_\") == 0:\n",
    "            print(\"END: It's a draw!\")\n",
    "            return\n",
    "        \n",
    "        # Player 2 move\n",
    "        positions_two = player_two_move(board)\n",
    "        matches_two = [triple for triple in list(combinations(positions_two, 3)) if triple in win_positions]\n",
    "        if matches_two:\n",
    "            show_positions_and_board(board)\n",
    "            print(f\"END: Player 2 wins with positions {[(triple[0]+1, triple[1]+1, triple[2]+1) for triple in matches_two]}\")\n",
    "            return\n",
    "        \n",
    "        show_positions_and_board(board)\n",
    "\n",
    "    # If the board is full and there's no winner, it's a draw\n",
    "    print(\"END: It's a draw!\")\n"
   ]
  },
  {
   "cell_type": "code",
   "execution_count": 53,
   "metadata": {},
   "outputs": [
    {
     "name": "stdout",
     "output_type": "stream",
     "text": [
      "X | _ | O\n",
      "X | X | O\n",
      "X | O | _\n",
      "END: Player 1 wins with positions [(1, 4, 7)]\n"
     ]
    }
   ],
   "source": [
    "play_game()"
   ]
  }
 ],
 "metadata": {
  "kernelspec": {
   "display_name": "Python 3",
   "language": "python",
   "name": "python3"
  },
  "language_info": {
   "codemirror_mode": {
    "name": "ipython",
    "version": 3
   },
   "file_extension": ".py",
   "mimetype": "text/x-python",
   "name": "python",
   "nbconvert_exporter": "python",
   "pygments_lexer": "ipython3",
   "version": "3.11.0b4"
  }
 },
 "nbformat": 4,
 "nbformat_minor": 1
}

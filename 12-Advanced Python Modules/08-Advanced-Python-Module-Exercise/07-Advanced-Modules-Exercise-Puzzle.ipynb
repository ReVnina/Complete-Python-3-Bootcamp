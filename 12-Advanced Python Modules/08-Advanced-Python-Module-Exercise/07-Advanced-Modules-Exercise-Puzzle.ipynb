{
 "cells": [
  {
   "cell_type": "markdown",
   "metadata": {},
   "source": [
    "___\n",
    "\n",
    "<a href='https://www.udemy.com/user/joseportilla/'><img src='../../Pierian_Data_Logo.png'/></a>\n",
    "___\n",
    "<center><em>Content Copyright by Pierian Data</em></center>"
   ]
  },
  {
   "cell_type": "markdown",
   "metadata": {},
   "source": [
    "# Advanced Modules Exercise Puzzle\n",
    "\n",
    "It's time to test your new skills, this puzzle project will combine multiple skills sets, including unzipping files with Python, using os module to automatically search through lots of files.\n",
    "\n",
    "## Your Goal\n",
    "\n",
    "This is a puzzle, so we don't want to give you too much guidance and instead have you figure out things on your own.\n",
    "\n",
    "There is a .zip file called 'unzip_me_for_instructions.zip', unzip it, open the .txt file with Python, read the instructions and see if you can figure out what you need to do!\n",
    "\n",
    "**If you get stuck or don't know where to start, here is a [guide/hints](https://docs.google.com/document/d/1JxydUr4n4fSR0EwwuwT-aHia-yPK6r-oTBuVT2sqheo/edit?usp=sharing)**"
   ]
  },
  {
   "cell_type": "code",
   "execution_count": 3,
   "metadata": {},
   "outputs": [
    {
     "name": "stdout",
     "output_type": "stream",
     "text": [
      "File unzipped successfully.\n"
     ]
    }
   ],
   "source": [
    "import shutil\n",
    "import os\n",
    "\n",
    "# Unzip the file\n",
    "shutil.unpack_archive('unzip_me_for_instructions.zip', 'unzipped_instructions')\n",
    "\n",
    "print(\"File unzipped successfully.\")"
   ]
  },
  {
   "cell_type": "code",
   "execution_count": 23,
   "metadata": {},
   "outputs": [
    {
     "name": "stdout",
     "output_type": "stream",
     "text": [
      "Good work on unzipping the file!\n",
      "You should now see 5 folders, each with a lot of random .txt files.\n",
      "Within one of these text files is a telephone number formated ###-###-#### \n",
      "Use the Python os module and regular expressions to iterate through each file, open it, and search for a telephone number.\n",
      "Good luck!\n"
     ]
    }
   ],
   "source": [
    "os.getcwd()\n",
    "#os.chdir(os.getcwd() + \"/unzipped_instructions/extracted_content\")\n",
    "# Read the instructions#\n",
    "with open('Instructions.txt') as f:\n",
    "    content = f.read()\n",
    "\n",
    "print(content)"
   ]
  },
  {
   "cell_type": "code",
   "execution_count": 24,
   "metadata": {},
   "outputs": [
    {
     "name": "stdout",
     "output_type": "stream",
     "text": [
      "Found phone number 719-266-2837 in file: Four\\EMTGPSXQEJX.txt\n"
     ]
    }
   ],
   "source": [
    "import re\n",
    "\n",
    "# Define the folders to search\n",
    "folders = [d for d in os.listdir(os.getcwd() ) \n",
    "           if os.path.isdir(os.path.join(os.getcwd() , d))]\n",
    "\n",
    "# Define the regex pattern for the telephone number ###-###-####\n",
    "phone_pattern = re.compile(r'\\b\\d{3}-\\d{3}-\\d{4}\\b')\n",
    "\n",
    "# Iterate through each folder\n",
    "for folder in folders:\n",
    "    # Check if the folder exists to avoid errors\n",
    "    if not os.path.isdir(folder):\n",
    "        print(f\"Folder '{folder}' does not exist. Skipping...\")\n",
    "        continue\n",
    "\n",
    "    # Iterate through each file in the folder\n",
    "    for filename in os.listdir(folder):\n",
    "        # Process only .txt files\n",
    "        if filename.lower().endswith('.txt'):\n",
    "            file_path = os.path.join(folder, filename)\n",
    "            try:\n",
    "                with open(file_path, 'r', encoding='utf-8') as file:\n",
    "                    contents = file.read()\n",
    "\n",
    "                    # Search for the phone number pattern\n",
    "                    matches = phone_pattern.findall(contents)\n",
    "                    if matches:\n",
    "                        for match in matches:\n",
    "                            print(f\"Found phone number {match} in file: {file_path}\")\n",
    "            except (IOError, OSError) as e:\n",
    "                print(f\"Error reading file {file_path}: {e}\")"
   ]
  }
 ],
 "metadata": {
  "anaconda-cloud": {},
  "kernelspec": {
   "display_name": "Python 3",
   "language": "python",
   "name": "python3"
  },
  "language_info": {
   "codemirror_mode": {
    "name": "ipython",
    "version": 3
   },
   "file_extension": ".py",
   "mimetype": "text/x-python",
   "name": "python",
   "nbconvert_exporter": "python",
   "pygments_lexer": "ipython3",
   "version": "3.11.0"
  }
 },
 "nbformat": 4,
 "nbformat_minor": 2
}
